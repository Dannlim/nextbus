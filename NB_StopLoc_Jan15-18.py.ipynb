{
 "cells": [
  {
   "cell_type": "code",
   "execution_count": 5,
   "metadata": {},
   "outputs": [
    {
     "name": "stdout",
     "output_type": "stream",
     "text": [
      "Done\n"
     ]
    }
   ],
   "source": [
    "# coding: utf-8\n",
    "\n",
    "# In[115]:\n",
    "\n",
    "\n",
    "def bobby(routenum, outfile):\n",
    "    ###Requests vehicle locations from the NextBus API and writes these to a text file###\n",
    "    import requests\n",
    "    import json\n",
    "    \n",
    "    #Paremeters\n",
    "    bobbyparams = {\"a\": \"ttc\", \"r\": routenum}\n",
    "\n",
    "    #Request the feed results\n",
    "    r2 = requests.get(\"http://webservices.nextbus.com/service/publicJSONFeed?command=routeConfig\", params=bobbyparams)\n",
    "    r2.raise_for_status()\n",
    "\n",
    "    data2 = r2.json()\n",
    "    StopDat = data2['route']['stop']\n",
    "        \n",
    "    #Creates a list containing 'w' lists, each of 'h' items, all set to 0\n",
    "    w = 4\n",
    "    h = len(StopDat)   #reads list length and assigns to h\n",
    "    StopRes = [[0 for x in range(w)] for y in range(h)] \n",
    "\n",
    "    #Write results to VehRes matrix\n",
    "    for i in range (0, h):\n",
    "        StopRes[i][0] = StopDat[i]['tag']\n",
    "        StopRes[i][1] = StopDat[i]['title']\n",
    "        StopRes[i][2] = StopDat[i]['lat']\n",
    "        StopRes[i][3] = StopDat[i]['lon']\n",
    "        outfile.write(\"{},{},{},{}\\n\".format(StopRes[i][0],StopRes[i][1],StopRes[i][2],StopRes[i][3]))       \n",
    "\n",
    "\n",
    "# In[116]:\n",
    "\n",
    "\n",
    "def houston(status):\n",
    "    import requests\n",
    "    \n",
    "    slack_token = \"[redacted]\"\n",
    "    \n",
    "    if status == \"initialize\":\n",
    "        text = \"NextBusAPI ready for launch\"\n",
    "    if status == \"success\":\n",
    "        text = \"we have liftoff :grinning:\"\n",
    "    if status == \"fail\":\n",
    "        text = \"we have a problem :anguished:\"\n",
    "        \n",
    "    channel = \"#vissim\"\n",
    "    #Paremeters\n",
    "    houstonparams = {\"token\": slack_token, \"channel\": channel, \"as_user\": \"true\", \"text\": text}\n",
    "\n",
    "    #Slack message request line\n",
    "    r3 = requests.get(\"https://slack.com/api/chat.postMessage?\", params=houstonparams)\n",
    "    r3.raise_for_status()\n",
    "\n",
    "\n",
    "# In[117]:\n",
    "\n",
    "\n",
    "def main():\n",
    "    import time\n",
    "        \n",
    "    houston(\"initialize\")\n",
    "          \n",
    "    # TTC route number\n",
    "    routenum = \"501\"\n",
    "    \n",
    "    # file date for naming of text file, day month year - dayname AM/PM\n",
    "    filedate = time.strftime(\"%d%b%Y-%a%p\")\n",
    "    with open('NextBusStops-Route{0}-{1}.txt' .format(routenum, filedate), 'a') as outfile:\n",
    "    \n",
    "        bobby(routenum, outfile)\n",
    "                \n",
    "    outfile.close()\n",
    "    \n",
    "    houston(\"success\")\n",
    "\n",
    "\n",
    "# In[118]:\n",
    "\n",
    "\n",
    "main()\n",
    "\n",
    "print(\"Done\")\n"
   ]
  },
  {
   "cell_type": "code",
   "execution_count": null,
   "metadata": {
    "collapsed": true
   },
   "outputs": [],
   "source": []
  },
  {
   "cell_type": "code",
   "execution_count": null,
   "metadata": {
    "collapsed": true
   },
   "outputs": [],
   "source": []
  }
 ],
 "metadata": {
  "kernelspec": {
   "display_name": "Python 3",
   "language": "python",
   "name": "python3"
  },
  "language_info": {
   "codemirror_mode": {
    "name": "ipython",
    "version": 3
   },
   "file_extension": ".py",
   "mimetype": "text/x-python",
   "name": "python",
   "nbconvert_exporter": "python",
   "pygments_lexer": "ipython3",
   "version": "3.6.3"
  }
 },
 "nbformat": 4,
 "nbformat_minor": 2
}
